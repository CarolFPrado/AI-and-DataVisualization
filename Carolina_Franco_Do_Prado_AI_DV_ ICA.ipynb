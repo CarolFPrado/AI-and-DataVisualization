{
 "cells": [
  {
   "cell_type": "markdown",
   "id": "5604d7e5",
   "metadata": {},
   "source": [
    "# First Scenario"
   ]
  },
  {
   "cell_type": "code",
   "execution_count": 1,
   "id": "251f7f6b",
   "metadata": {},
   "outputs": [],
   "source": [
    "# Import the constraint module\n",
    "import constraint\n",
    "\n",
    "# Define a problem object\n",
    "problem = constraint.Problem()\n",
    "\n",
    "# Add variables and their respective values to the problem\n",
    "# The variables are the names of the people, and the domains are 0 or 1, indicating whether they are hired or not\n",
    "problem.addVariables([\"Peter\", \"Juan\", \"Jim\", \"Jane\", \"Mary\", \"Bruce\", \"Anita\"], [0, 1])\n",
    "\n"
   ]
  },
  {
   "cell_type": "markdown",
   "id": "9aae796a",
   "metadata": {},
   "source": [
    "# Scenario 2"
   ]
  },
  {
   "cell_type": "code",
   "execution_count": null,
   "id": "a771e1c4",
   "metadata": {},
   "outputs": [],
   "source": []
  },
  {
   "cell_type": "code",
   "execution_count": null,
   "id": "145ad3d0",
   "metadata": {},
   "outputs": [],
   "source": []
  }
 ],
 "metadata": {
  "kernelspec": {
   "display_name": "Python 3 (ipykernel)",
   "language": "python",
   "name": "python3"
  },
  "language_info": {
   "codemirror_mode": {
    "name": "ipython",
    "version": 3
   },
   "file_extension": ".py",
   "mimetype": "text/x-python",
   "name": "python",
   "nbconvert_exporter": "python",
   "pygments_lexer": "ipython3",
   "version": "3.9.12"
  }
 },
 "nbformat": 4,
 "nbformat_minor": 5
}
