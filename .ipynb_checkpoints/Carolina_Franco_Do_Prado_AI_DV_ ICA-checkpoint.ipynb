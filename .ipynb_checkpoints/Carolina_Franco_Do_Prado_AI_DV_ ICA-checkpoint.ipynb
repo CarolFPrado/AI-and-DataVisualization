{
 "cells": [
  {
   "cell_type": "markdown",
   "id": "ab6a1669",
   "metadata": {},
   "source": [
    "# First Scenario"
   ]
  },
  {
   "cell_type": "code",
   "execution_count": 4,
   "id": "072de8f3",
   "metadata": {},
   "outputs": [
    {
     "name": "stdout",
     "output_type": "stream",
     "text": [
      "Number of solutions found: 2\n",
      "Hire: Anita, Jim, Jane\n",
      "Hire: Jim, Juan, Jane\n"
     ]
    }
   ],
   "source": [
    "# Import the constraint module\n",
    "import constraint\n",
    "\n",
    "# Define a problem object\n",
    "problem = constraint.Problem()\n",
    "\n",
    "# Add variables and their respective values to the problem\n",
    "# The variables are the names of the people, and the values are 0 or 1, indicating if they are hired or not\n",
    "problem.addVariables([\"Peter\", \"Juan\", \"Jim\", \"Jane\", \"Mary\", \"Bruce\", \"Anita\"], [0, 1])\n",
    "\n",
    "# Define the custom constraint functions for my problem\n",
    "def python_constraint(x_Peter, x_Jane, x_Bruce):\n",
    "    return x_Peter + x_Jane + x_Bruce + 1 >= 2 # Ciara knows Python\n",
    "\n",
    "def ai_constraint(x_Peter, x_Juan, x_Jim, x_Anita):\n",
    "    return x_Peter + x_Juan + x_Jim + x_Anita >= 2 # Need 2 AI engineers\n",
    "\n",
    "def web_constraint(x_Juan, x_Mary, x_Anita):\n",
    "    return x_Juan + x_Mary + x_Anita >= 1 # Need 1 web designer\n",
    "\n",
    "def database_constraint(x_Jane):\n",
    "    return x_Jane >= 1 # Need 1 database admin\n",
    "\n",
    "def systems_constraint(x_Jim, x_Mary, x_Bruce):\n",
    "    return x_Jim + x_Mary + x_Bruce >= 1 # Need 1 systems engineer\n",
    "\n",
    "def hires_constraint(x_Peter, x_Juan, x_Jim, x_Jane, x_Mary, x_Bruce, x_Anita):\n",
    "    return x_Peter + x_Juan + x_Jim + x_Jane + x_Mary + x_Bruce + x_Anita <= 3 # Can only hire 3 people\n",
    "# Add the constraints to the problem\n",
    "problem.addConstraint(python_constraint, [\"Peter\", \"Jane\", \"Bruce\"])\n",
    "problem.addConstraint(ai_constraint, [\"Peter\", \"Juan\", \"Jim\", \"Anita\"])\n",
    "problem.addConstraint(web_constraint, [\"Juan\", \"Mary\", \"Anita\"])\n",
    "problem.addConstraint(database_constraint, [\"Jane\"])\n",
    "problem.addConstraint(systems_constraint, [\"Jim\", \"Mary\", \"Bruce\"])\n",
    "problem.addConstraint(hires_constraint, [\"Peter\", \"Juan\", \"Jim\", \"Jane\", \"Mary\", \"Bruce\", \"Anita\"])\n",
    "\n",
    "# Get the solutions from the problem\n",
    "solutions = problem.getSolutions()\n",
    "\n",
    "# Print the solutions\n",
    "print(\"Number of solutions found:\", len(solutions))\n",
    "for s in solutions:\n",
    "    print(\"Hire:\", \", \".join([name for name, value in s.items() if value == 1]))\n"
   ]
  },
  {
   "cell_type": "markdown",
   "id": "1dca0b94",
   "metadata": {},
   "source": [
    "# Scenario 2"
   ]
  },
  {
   "cell_type": "code",
   "execution_count": 5,
   "id": "da9de4b6",
   "metadata": {},
   "outputs": [
    {
     "name": "stdout",
     "output_type": "stream",
     "text": [
      "Number of solutions found: 7\n",
      "Hire: Anita, Bruce, Jim, Jane\n",
      "Hire: Anita, Bruce, Peter, Jane\n",
      "Hire: Anita, Jim, Mary, Jane\n",
      "Hire: Anita, Jim, Jane\n",
      "Hire: Anita, Jim, Peter, Jane\n",
      "Hire: Anita, Mary, Peter, Jane\n",
      "Hire: Mary, Jim, Peter, Jane\n"
     ]
    }
   ],
   "source": [
    "# Import the constraint module\n",
    "import constraint\n",
    "\n",
    "# Define a problem object\n",
    "problem = constraint.Problem()\n",
    "\n",
    "# Add variables and their respective domains to the problem\n",
    "# The variables are the names of the people, and the domains are 0 or 1, indicating whether they are hired or not\n",
    "problem.addVariables([\"Peter\", \"Jim\", \"Jane\", \"Mary\", \"Bruce\", \"Anita\"], [0, 1])\n",
    "\n",
    "# Define the custom constraint functions\n",
    "def python_constraint(x_Peter, x_Jane, x_Bruce):\n",
    "    return x_Peter + x_Jane + x_Bruce + 1 >= 2 # Ciara and Juan know Python\n",
    "\n",
    "def ai_constraint(x_Peter, x_Jim, x_Anita):\n",
    "    return x_Peter + x_Jim + x_Anita + 1 >= 3 # Need 3 AI engineers\n",
    "\n",
    "def web_constraint(x_Mary, x_Anita):\n",
    "    return x_Mary + x_Anita >= 1 # Need 1 web designer\n",
    "\n",
    "def database_constraint(x_Jane):\n",
    "    return x_Jane >= 1 # Need 1 database admin\n",
    "\n",
    "def systems_constraint(x_Jim, x_Mary, x_Bruce):\n",
    "    return x_Jim + x_Mary + x_Bruce >= 1 # Need 1 systems engineer\n",
    "\n",
    "def hires_constraint(x_Peter, x_Jim, x_Jane, x_Mary, x_Bruce, x_Anita):\n",
    "    return x_Peter + x_Jim + x_Jane + x_Mary + x_Bruce + x_Anita <= 4 # Can only hire 4 people\n",
    "\n",
    "# Add the constraints to the problem\n",
    "problem.addConstraint(python_constraint, [\"Peter\", \"Jane\", \"Bruce\"])\n",
    "problem.addConstraint(ai_constraint, [\"Peter\", \"Jim\", \"Anita\"])\n",
    "problem.addConstraint(web_constraint, [\"Mary\", \"Anita\"])\n",
    "problem.addConstraint(database_constraint, [\"Jane\"])\n",
    "problem.addConstraint(systems_constraint, [\"Jim\", \"Mary\", \"Bruce\"])\n",
    "problem.addConstraint(hires_constraint, [\"Peter\", \"Jim\", \"Jane\", \"Mary\", \"Bruce\", \"Anita\"])\n",
    "\n",
    "# Get the solutions from the problem\n",
    "solutions = problem.getSolutions()\n",
    "\n",
    "# Print the solutions\n",
    "print(\"Number of solutions found:\", len(solutions))\n",
    "for s in solutions:\n",
    "    print(\"Hire:\", \", \".join([name for name, value in s.items() if value == 1]))"
   ]
  },
  {
   "cell_type": "code",
   "execution_count": null,
   "id": "8312f2da",
   "metadata": {},
   "outputs": [],
   "source": []
  }
 ],
 "metadata": {
  "kernelspec": {
   "display_name": "Python 3 (ipykernel)",
   "language": "python",
   "name": "python3"
  },
  "language_info": {
   "codemirror_mode": {
    "name": "ipython",
    "version": 3
   },
   "file_extension": ".py",
   "mimetype": "text/x-python",
   "name": "python",
   "nbconvert_exporter": "python",
   "pygments_lexer": "ipython3",
   "version": "3.9.12"
  }
 },
 "nbformat": 4,
 "nbformat_minor": 5
}
