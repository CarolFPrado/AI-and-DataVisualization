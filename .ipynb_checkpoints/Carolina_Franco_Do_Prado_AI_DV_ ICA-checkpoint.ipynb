{
 "cells": [
  {
   "cell_type": "code",
   "execution_count": 1,
   "id": "5952e166",
   "metadata": {},
   "outputs": [],
   "source": [
    "import constraint"
   ]
  },
  {
   "cell_type": "code",
   "execution_count": 2,
   "id": "6ad7355c",
   "metadata": {},
   "outputs": [],
   "source": [
    "problem = constraint.Problem()"
   ]
  },
  {
   "cell_type": "markdown",
   "id": "f4824cc0",
   "metadata": {},
   "source": []
  },
  {
   "cell_type": "code",
   "execution_count": 3,
   "id": "9831a3f5",
   "metadata": {},
   "outputs": [],
   "source": [
    "problem.addVariable('Peter', ['Python','AI'])\n",
    "problem.addVariable('Juan', ['Web','AI'])\n",
    "problem.addVariable('Jim', ['AI','Systems'])\n",
    "problem.addVariable('Jane', ['Python','Database'])\n",
    "problem.addVariable('Mary', ['Web','Systems'])\n",
    "problem.addVariable('Bruce', ['Systems','Python'])\n",
    "problem.addVariable('Anita', ['Web','AI'])"
   ]
  },
  {
   "cell_type": "code",
   "execution_count": null,
   "id": "56f72915",
   "metadata": {},
   "outputs": [],
   "source": []
  }
 ],
 "metadata": {
  "kernelspec": {
   "display_name": "Python 3 (ipykernel)",
   "language": "python",
   "name": "python3"
  },
  "language_info": {
   "codemirror_mode": {
    "name": "ipython",
    "version": 3
   },
   "file_extension": ".py",
   "mimetype": "text/x-python",
   "name": "python",
   "nbconvert_exporter": "python",
   "pygments_lexer": "ipython3",
   "version": "3.9.12"
  }
 },
 "nbformat": 4,
 "nbformat_minor": 5
}
